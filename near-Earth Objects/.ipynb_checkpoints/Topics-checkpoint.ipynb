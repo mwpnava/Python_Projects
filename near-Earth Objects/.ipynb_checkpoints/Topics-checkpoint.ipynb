{
 "cells": [
  {
   "cell_type": "markdown",
   "metadata": {},
   "source": [
    "# Topics to double check during project"
   ]
  },
  {
   "cell_type": "markdown",
   "metadata": {},
   "source": [
    "## Variadic Keyword Parameters"
   ]
  },
  {
   "cell_type": "code",
   "execution_count": 2,
   "metadata": {},
   "outputs": [
    {
     "name": "stdout",
     "output_type": "stream",
     "text": [
      "1 100 hello\n"
     ]
    }
   ],
   "source": [
    "## Keyword arguments, also known as default arguments, named arguments, or optional arguments\n",
    "\n",
    "def sample_function(arg1, arg2= 100, arg3='hello'):\n",
    "    print(arg1, arg2, arg3)\n",
    "    \n",
    "sample_function(1)"
   ]
  },
  {
   "cell_type": "markdown",
   "metadata": {},
   "source": [
    "## Variadic Positional Parameters"
   ]
  },
  {
   "cell_type": "code",
   "execution_count": 6,
   "metadata": {},
   "outputs": [
    {
     "data": {
      "text/plain": [
       "6"
      ]
     },
     "execution_count": 6,
     "metadata": {},
     "output_type": "execute_result"
    }
   ],
   "source": [
    "## Variadic Positional Parameters\n",
    "\n",
    "# Variadic Positional Parameter: It is a category of parameter like *args \n",
    "# that captures a variable number of excess positional arguments in a tuple.\n",
    "\n",
    "# good example is : print function\n",
    "# def print(*objects, sep=' ', end='\\n', file=sys.stdout, flush=False): ....\n",
    "\n",
    "def product(*args, scale=1):\n",
    "    p = scale\n",
    "\n",
    "    for n in args:\n",
    "        p *= n\n",
    "        \n",
    "    return p\n",
    "\n",
    "\n",
    "\n"
   ]
  },
  {
   "cell_type": "code",
   "execution_count": 7,
   "metadata": {},
   "outputs": [
    {
     "data": {
      "text/plain": [
       "6"
      ]
     },
     "execution_count": 7,
     "metadata": {},
     "output_type": "execute_result"
    }
   ],
   "source": [
    "product(3,2)"
   ]
  },
  {
   "cell_type": "code",
   "execution_count": 8,
   "metadata": {},
   "outputs": [
    {
     "data": {
      "text/plain": [
       "3"
      ]
     },
     "execution_count": 8,
     "metadata": {},
     "output_type": "execute_result"
    }
   ],
   "source": [
    "product(3)"
   ]
  },
  {
   "cell_type": "code",
   "execution_count": 9,
   "metadata": {},
   "outputs": [
    {
     "data": {
      "text/plain": [
       "200"
      ]
     },
     "execution_count": 9,
     "metadata": {},
     "output_type": "execute_result"
    }
   ],
   "source": [
    "product(10,10, scale=2)"
   ]
  },
  {
   "cell_type": "code",
   "execution_count": 10,
   "metadata": {},
   "outputs": [
    {
     "data": {
      "text/plain": [
       "1200"
      ]
     },
     "execution_count": 10,
     "metadata": {},
     "output_type": "execute_result"
    }
   ],
   "source": [
    "nums = (1,2,3,4,5)\n",
    "product(*nums,10)"
   ]
  },
  {
   "cell_type": "markdown",
   "metadata": {},
   "source": [
    "## Variadic Keyword Parameters"
   ]
  },
  {
   "cell_type": "code",
   "execution_count": 12,
   "metadata": {},
   "outputs": [],
   "source": [
    "# This parameter will capture excess keyword-supplied arguments into a dictionary named the same thing, \n",
    "# such as kwargs.\n",
    "\n",
    "def authorize(quote, **speaker_info):\n",
    "    print(\">\", quote)\n",
    "    print(\"-\" * (len(quote) + 2))\n",
    "    for key, value in speaker_info.items():\n",
    "        print(key, value, sep=': ')\n"
   ]
  },
  {
   "cell_type": "code",
   "execution_count": 13,
   "metadata": {},
   "outputs": [
    {
     "name": "stdout",
     "output_type": "stream",
     "text": [
      "> hola\n",
      "------\n"
     ]
    }
   ],
   "source": [
    "authorize('hola')"
   ]
  },
  {
   "cell_type": "code",
   "execution_count": 14,
   "metadata": {},
   "outputs": [
    {
     "name": "stdout",
     "output_type": "stream",
     "text": [
      "> hola\n",
      "------\n",
      "author: Wendy\n",
      "date: Lunes septiemre 13\n"
     ]
    }
   ],
   "source": [
    "authorize(\"hello\", author=\"Wendy\", date=\"Monday Sep, 13rd\")"
   ]
  },
  {
   "cell_type": "code",
   "execution_count": 18,
   "metadata": {},
   "outputs": [
    {
     "name": "stdout",
     "output_type": "stream",
     "text": [
      "> hola\n",
      "------\n",
      "author: Wendy\n",
      "date: Monday Sep, 13rd\n",
      "location: Sunnyvale,CA\n"
     ]
    }
   ],
   "source": [
    "# Unpacking Argument Lists: Python's tutorial on unpacking a mapping of arguments with **kwargs\n",
    "\n",
    "info = {'author':'Wendy', 'date':'Monday Sep, 13rd', 'location':'Sunnyvale,CA'}\n",
    "\n",
    "authorize(\"hola\", **info)"
   ]
  },
  {
   "cell_type": "markdown",
   "metadata": {},
   "source": [
    "## Decorators\n"
   ]
  },
  {
   "cell_type": "code",
   "execution_count": 19,
   "metadata": {},
   "outputs": [
    {
     "name": "stdout",
     "output_type": "stream",
     "text": [
      "5&10...5&10..."
     ]
    }
   ],
   "source": [
    "# Decorators\n",
    "# A function returning another function, usually applied as a function transformation \n",
    "# using the @wrapper syntax. Common examples for decorators are classmethod() and staticmethod().\n",
    "\n",
    "\n",
    "\n",
    "def perform_twice(fn, *args, **kwargs):\n",
    "    fn(*args, **kwargs)\n",
    "    fn(*args, **kwargs)\n",
    "\n",
    "perform_twice(print, 5, 10, sep='&', end='...')\n",
    "# 5&10...5&10..."
   ]
  },
  {
   "cell_type": "markdown",
   "metadata": {},
   "source": [
    "## Decorator @property in classes"
   ]
  },
  {
   "cell_type": "code",
   "execution_count": 51,
   "metadata": {},
   "outputs": [],
   "source": [
    "class House():\n",
    "    \n",
    "    price_per_sq = 10\n",
    "    \n",
    "    def __init__(self, sqft):\n",
    "        self.sqft = sqft\n",
    "        \n",
    "        \n",
    "    # The @property decorator, applied to a method, changes the method call behavior so \n",
    "    # that the method itself can be accessed as if it were an attribute.   \n",
    "    @property    \n",
    "    def price(self):\n",
    "        return self.sqft * self.price_per_sq\n",
    "    \n",
    "    #@name.setter decorator can decorate a method to assign a new value to a property \n",
    "    #(there's also an `@name.deleter` to \"delete\" the property\n",
    "    @price.setter\n",
    "    def price(self, new_price):\n",
    "        self.sqft = new_price / self.price_per_sq\n",
    "        \n",
    "    #The @classmethod decorator changes method call behavior by passing the class object, \n",
    "    #not the instance object, as the first argument\n",
    "    @classmethod\n",
    "    def creator(cls, description):\n",
    "        return cls(description)\n",
    "    \n",
    "    "
   ]
  },
  {
   "cell_type": "code",
   "execution_count": 55,
   "metadata": {},
   "outputs": [
    {
     "name": "stdout",
     "output_type": "stream",
     "text": [
      "1000\n",
      "100\n",
      "2000.0\n",
      "200.0\n"
     ]
    }
   ],
   "source": [
    "myHouse=House(100)\n",
    "\n",
    "print(myHouse.price)\n",
    "print(myHouse.sqft)\n",
    "\n",
    "myHouse.price = 2000\n",
    "print(myHouse.price)\n",
    "print(myHouse.sqft)\n",
    "\n",
    "\n",
    "\n",
    "#Calling the method price as attribute\n",
    "#print(myHouse.price)"
   ]
  },
  {
   "cell_type": "code",
   "execution_count": null,
   "metadata": {},
   "outputs": [],
   "source": []
  }
 ],
 "metadata": {
  "kernelspec": {
   "display_name": "Python 3",
   "language": "python",
   "name": "python3"
  },
  "language_info": {
   "codemirror_mode": {
    "name": "ipython",
    "version": 3
   },
   "file_extension": ".py",
   "mimetype": "text/x-python",
   "name": "python",
   "nbconvert_exporter": "python",
   "pygments_lexer": "ipython3",
   "version": "3.8.5"
  }
 },
 "nbformat": 4,
 "nbformat_minor": 4
}
